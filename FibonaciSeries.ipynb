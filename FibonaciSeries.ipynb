{
 "cells": [
  {
   "cell_type": "markdown",
   "id": "34f18651",
   "metadata": {},
   "source": [
    "##Fiboonaci Series (Assignment no1):-"
   ]
  },
  {
   "cell_type": "code",
   "execution_count": 39,
   "id": "0a54d8a7",
   "metadata": {},
   "outputs": [
    {
     "name": "stdout",
     "output_type": "stream",
     "text": [
      "1\n",
      "1\n",
      "2\n",
      "3\n",
      "5\n",
      "8\n",
      "13\n",
      "21\n",
      "34\n"
     ]
    }
   ],
   "source": [
    "num_1 = 0\n",
    "num_2 = 1\n",
    "while num_2<=50:\n",
    "    print(num_2)\n",
    "    num_1,num_2=num_2,num_1+num_2"
   ]
  },
  {
   "cell_type": "code",
   "execution_count": null,
   "id": "5c69d9e6",
   "metadata": {},
   "outputs": [],
   "source": []
  }
 ],
 "metadata": {
  "kernelspec": {
   "display_name": "Python 3 (ipykernel)",
   "language": "python",
   "name": "python3"
  },
  "language_info": {
   "codemirror_mode": {
    "name": "ipython",
    "version": 3
   },
   "file_extension": ".py",
   "mimetype": "text/x-python",
   "name": "python",
   "nbconvert_exporter": "python",
   "pygments_lexer": "ipython3",
   "version": "3.9.12"
  }
 },
 "nbformat": 4,
 "nbformat_minor": 5
}
